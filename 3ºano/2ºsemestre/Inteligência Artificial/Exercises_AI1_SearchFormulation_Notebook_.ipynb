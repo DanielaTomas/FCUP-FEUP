{
 "cells": [
  {
   "cell_type": "markdown",
   "metadata": {},
   "source": [
    "# Artificial Intelligence\n",
    "## L.EIC – 3rd Year/2nd Semester\n",
    "### Exercise Sheet 1\n",
    "# Solving Problems by Searching"
   ]
  },
  {
   "attachments": {},
   "cell_type": "markdown",
   "metadata": {},
   "source": [
    "## 1.1 The Two Buckets Problem\n",
    "\n",
    "<img src=\"https://qph.cf2.quoracdn.net/main-qimg-45726b16b460cae0147ae8ca245a8fb0-pjlq\" width=\"250px\" height=\"250px\" align=\"right\">\n",
    "\n",
    "Two buckets of capacities **c1** (e.g. 4 liters) and **c2** (e.g. 3 liters), respectively, are initially empty. The buckets do not have any intermediate markings. The only operations you can perform are:\n",
    "\n",
    "- Fill (completely) a bucket \n",
    "- Empty a bucket.\n",
    "- Pour one bucket into the other (until the target one is full or the source one is empty).\n",
    "\n",
    "The aim is to determine which operations to carry out so that the first bucket contains exactly **n** liters (e.g. 2 litres)."
   ]
  },
  {
   "attachments": {},
   "cell_type": "markdown",
   "metadata": {},
   "source": [
    "Formulate this problem as a search problem by defining the state representation, initial state, operators (their name, preconditions, effects, and cost), and objective test."
   ]
  },
  {
   "attachments": {},
   "cell_type": "raw",
   "metadata": {},
   "source": [
    "State Representation: \n",
    "(b1,b2)\n",
    "\n",
    "Initial State: \n",
    "(0,0)\n",
    "\n",
    "Operators:\n",
    "Name          | Pre Conditions                   | Effects                        | Cost \n",
    "--------------|----------------------------------|--------------------------------|-----------\n",
    "fill1         | b1 < 4                           | b1 <- 4                        | 1\n",
    "fill2         | b2 < 3                           | b2 <- 3                        | 1\n",
    "empty1        | b1 > 0                           | b1 <- 0                        | 1\n",
    "empty2        | b2 > 0                           | b2 <- 0                        | 1\n",
    "pour12_fill2  | b1 > 0 && b2 < 3 && b1 + b2 >= 3 | b1 <- b1 - (3 - b2) && b2 <- 3 | 1\n",
    "pour12_empty1 | b1 > 0 && b2 < 3 && b1 + b2 < 3  | b1 <- 0 && b2 <- b2 + b1       | 1\n",
    "pour21_fill1  | b2 > 0 && b1 < 4 && b1 + b2 >= 4 | b1 <- 4 && b2 <- b2 - (4 - b1) | 1\n",
    "pour21_empty2 | b2 > 0 && b1 < 4 && b1 + b2 < 4  | b1 <- b1 + b2 && b2 <- 0       | 1\n",
    "\n",
    "Objective State: \n",
    "(n,_)"
   ]
  },
  {
   "attachments": {},
   "cell_type": "markdown",
   "metadata": {},
   "source": [
    "What is the size of the state space for this problem? Represent the state space by drawing the possible objective states and displaying some of the possible transitions from the initial state."
   ]
  },
  {
   "cell_type": "raw",
   "metadata": {},
   "source": [
    "b1 -> 0..4\n",
    "b2 -> 0..3\n",
    "Size = 5 * 4 = 20 states\n",
    "\n",
    "(0,0) (4,0) (1,3) (1,0) (0,1)\n",
    "(0,3) (4,3) (4,1) (2,0) (0,2)\n",
    "(3,0) (2,3) (3,2) (1,2) (2,2)\n",
    "(3,3) (4,2) (2,2) (3,1) (1,1)"
   ]
  },
  {
   "attachments": {},
   "cell_type": "markdown",
   "metadata": {},
   "source": [
    "<div align=\"center\">\n",
    "    <img src=\"state_space.jpg\">\n",
    "</div>"
   ]
  },
  {
   "attachments": {},
   "cell_type": "markdown",
   "metadata": {},
   "source": [
    "Solve the problem by hand, using tree search. What solutions have you found?"
   ]
  },
  {
   "cell_type": "raw",
   "metadata": {},
   "source": [
    "(2,0); (2,1); (2,2); (2,3)"
   ]
  },
  {
   "cell_type": "markdown",
   "metadata": {},
   "source": [
    "### Buildind a computational approach to handle the problem\n",
    "\n",
    "To build a program to solve the buckets problem, we will implement a solution that separates the problem definition from the algorithms used to traverse the state space. This way, we can reuse our implementations of the search strategies in other problems."
   ]
  },
  {
   "cell_type": "markdown",
   "metadata": {},
   "source": [
    "#### Representing the two buckets problem as a search problem\n",
    "\n",
    "Let's start by defining a state for the buckets problem. For that, it'll suffice to aggregate two quantities, each representing the amount of water in one of the buckets. We also define a way of printing the state."
   ]
  },
  {
   "cell_type": "code",
   "execution_count": 4,
   "metadata": {},
   "outputs": [],
   "source": [
    "class BucketState:\n",
    "    c1 = 4   # capacity for bucket 1\n",
    "    c2 = 3   # capacity for bucket 2\n",
    "    \n",
    "    def __init__(self, b1, b2):\n",
    "        self.b1 = b1\n",
    "        self.b2 = b2\n",
    "\n",
    "    '''needed for the visited list'''\n",
    "    def __eq__(self, other):\n",
    "        if isinstance(other, self.__class__):\n",
    "            return self.__dict__ == other.__dict__\n",
    "        else:\n",
    "            return False\n",
    "\n",
    "    def __ne__(self, other):\n",
    "        \"\"\"Overrides the default implementation (unnecessary in Python 3)\"\"\"\n",
    "        return not self.__eq__(other)\n",
    "    \n",
    "    def __hash__(self):\n",
    "        return hash((self.b1, self.b2)) \n",
    "    ''' - '''\n",
    "\n",
    "    def __str__(self):\n",
    "        return \"(\" + str(self.b1) + \", \" + str(self.b2) + \")\""
   ]
  },
  {
   "cell_type": "markdown",
   "metadata": {},
   "source": [
    "Now we define each of the operators on states:"
   ]
  },
  {
   "cell_type": "code",
   "execution_count": 5,
   "metadata": {},
   "outputs": [],
   "source": [
    "# emptying the first bucket\n",
    "def empty1(state):\n",
    "    if state.b1 > 0:\n",
    "        return BucketState(0, state.b2)\n",
    "    return None\n",
    "\n",
    "# emptying the second bucket\n",
    "def empty2(state):\n",
    "    if state.b2 > 0:\n",
    "        return BucketState(state.b1, 0)\n",
    "    return None\n",
    "    \n",
    "# fill the first bucket\n",
    "def fill1(state):\n",
    "    if state.b1 < 4:\n",
    "        return BucketState(4, state.b2)\n",
    "    return None\n",
    "\n",
    "# fill the second bucket\n",
    "def fill2(state):\n",
    "    if state.b2 < 3:\n",
    "        return BucketState(state.b1, 3)\n",
    "    return None\n",
    "\n",
    "# pour water from bucket one into bucket two until bucket two is full\n",
    "def pour12_fill2(state):\n",
    "    if state.b1 > 0 and state.b2 < 3 and state.b1+state.b2 >= 3:\n",
    "        return BucketState(state.b1-(3-state.b2), 3)\n",
    "    return None\n",
    "\n",
    "# pour water from bucket one into bucket two until bucket one is empty\n",
    "def pour12_empty1(state):\n",
    "    if state.b1 > 0 and state.b2 < 3 and state.b1+state.b2 < 3:\n",
    "        return BucketState(0, state.b1+state.b2)\n",
    "    return None\n",
    "\n",
    "# pour water from bucket two into bucket one until bucket one is full\n",
    "def pour21_fill1(state):\n",
    "    if state.b2 > 0 and state.b1 < 4 and state.b1+state.b2 >= 4:\n",
    "        return BucketState(4, state.b2-(4-state.b1))\n",
    "    return None\n",
    "\n",
    "# pour water from bucket two into bucket one until bucket two is empty\n",
    "def pour21_empty2(state):\n",
    "    if state.b2 > 0 and state.b1 < 4 and state.b1+state.b2 < 4:\n",
    "        return BucketState(state.b1+state.b2, 0)\n",
    "    return None\n"
   ]
  },
  {
   "cell_type": "markdown",
   "metadata": {},
   "source": [
    "The following function will aggregate all states that can be generated from a given one:"
   ]
  },
  {
   "cell_type": "code",
   "execution_count": 6,
   "metadata": {},
   "outputs": [],
   "source": [
    "def child_bucket_states(state):\n",
    "    new_states = []\n",
    "    if(empty1(state)):\n",
    "        new_states.append(empty1(state))\n",
    "    if(empty2(state)):\n",
    "        new_states.append(empty2(state))\n",
    "    if(fill1(state)):\n",
    "        new_states.append(fill1(state))\n",
    "    if(fill2(state)):\n",
    "        new_states.append(fill2(state))\n",
    "    if(pour12_fill2(state)):\n",
    "        new_states.append(pour12_fill2(state))\n",
    "    if(pour12_empty1(state)):\n",
    "        new_states.append(pour12_empty1(state))\n",
    "    if(pour21_fill1(state)):\n",
    "        new_states.append(pour21_fill1(state))\n",
    "    if(pour21_empty2(state)):\n",
    "        new_states.append(pour21_empty2(state))\n",
    "    return new_states"
   ]
  },
  {
   "cell_type": "markdown",
   "metadata": {},
   "source": [
    "Play around with the state transition operators and check if they are working properly:"
   ]
  },
  {
   "cell_type": "code",
   "execution_count": 7,
   "metadata": {},
   "outputs": [
    {
     "name": "stdout",
     "output_type": "stream",
     "text": [
      "(4, 0)\n",
      "(0, 0)\n",
      "(4, 3)\n",
      "(1, 3)\n"
     ]
    }
   ],
   "source": [
    "s = BucketState(0, 0)\n",
    "# print(s)  # (0, 0)\n",
    "s = fill1(s)\n",
    "print(s)  # (4, 0)\n",
    "\n",
    "c = child_bucket_states(BucketState(0, 0))\n",
    "\n",
    "for i in child_bucket_states(s):\n",
    "  print(i)\n",
    "\n",
    "#s = pour12_fill2(s)\n",
    "#print(s)  # (1, 3)\n",
    "\n",
    "#s = pour21_fill1(s)\n",
    "#print(s) # (4, 0)\n",
    "\n",
    "#s = fill2(s)\n",
    "#print(s)  # (4, 3)\n",
    "\n",
    "#s = empty1(s)\n",
    "#print(s) # (0,3)\n",
    "\n",
    "#s = empty2(s)\n",
    "#print(s)  # (0, 0)"
   ]
  },
  {
   "cell_type": "markdown",
   "metadata": {},
   "source": [
    "Finally, we need to define the goal condition:"
   ]
  },
  {
   "cell_type": "code",
   "execution_count": 8,
   "metadata": {},
   "outputs": [],
   "source": [
    "def goal_bucket_state(state):\n",
    "   return state.b1 == 2"
   ]
  },
  {
   "cell_type": "markdown",
   "metadata": {},
   "source": [
    "Test your goal condition:"
   ]
  },
  {
   "cell_type": "code",
   "execution_count": 9,
   "metadata": {},
   "outputs": [
    {
     "name": "stdout",
     "output_type": "stream",
     "text": [
      "False\n",
      "False\n",
      "True\n"
     ]
    }
   ],
   "source": [
    "print(goal_bucket_state(BucketState(0, 0))) # False\n",
    "print(goal_bucket_state(BucketState(4, 3))) # False\n",
    "print(goal_bucket_state(BucketState(2, 0))) # True"
   ]
  },
  {
   "cell_type": "markdown",
   "metadata": {},
   "source": [
    "#### Implementing search algorithms\n",
    "\n",
    "Let us start by defining an appropriate structure to represent a node in a search tree. Each tree node will include:\n",
    "- a state of the problem\n",
    "- a link to its parent (to allow traveling from a leaf node towards the root of the tree)\n",
    "- a list of child nodes"
   ]
  },
  {
   "cell_type": "code",
   "execution_count": 10,
   "metadata": {},
   "outputs": [],
   "source": [
    "# A generic definition of a tree node holding a state of the problem\n",
    "class TreeNode:\n",
    "    def __init__(self, state, parent=None):\n",
    "        self.state = state\n",
    "        self.parent = parent\n",
    "        self.children = []\n",
    "        if parent is None:\n",
    "            self.depth = 0\n",
    "        else: \n",
    "            self.depth = self.parent.depth + 1\n",
    "\n",
    "    def add_child(self, child_node):\n",
    "        self.children.append(child_node)\n",
    "        child_node.parent = self\n",
    "        child_node.depth = self.depth + 1"
   ]
  },
  {
   "cell_type": "markdown",
   "metadata": {},
   "source": [
    "##### Breadth-first search\n",
    "\n",
    "Based on this structure, we can now implement breadth-first search. Note that we want the implementation to be independent of the problem at hand (in this case, the two buckets problem)."
   ]
  },
  {
   "cell_type": "code",
   "execution_count": 11,
   "metadata": {},
   "outputs": [],
   "source": [
    "from collections import deque\n",
    "\n",
    "def breadth_first_search(initial_state, goal_state_func, operators_func):\n",
    "    root = TreeNode(initial_state)   # create the root node in the search tree\n",
    "    queue = deque([root])   # initialize the queue to store the nodes\n",
    "    \n",
    "    while queue:\n",
    "        node = queue.popleft()   # get first element in the queue\n",
    "        if goal_state_func(node.state):   # check goal state\n",
    "            return node\n",
    "        \n",
    "        for state in operators_func(node.state):   # go through next states\n",
    "            # create tree node with the new state\n",
    "            new_node = TreeNode(state) \n",
    "\n",
    "            # link child node to its parent in the tree\n",
    "            node.add_child(new_node)\n",
    "            \n",
    "            # enqueue the child node\n",
    "            queue.append(new_node)\n",
    "\n",
    "    return None"
   ]
  },
  {
   "cell_type": "markdown",
   "metadata": {},
   "source": [
    "We can now use this function to actually perform a breadth-first search on the buckets problem: we pass it the initial state, our goal condition function, and the function for obtaining child states."
   ]
  },
  {
   "cell_type": "code",
   "execution_count": 12,
   "metadata": {},
   "outputs": [
    {
     "name": "stdout",
     "output_type": "stream",
     "text": [
      "(2, 3)\n"
     ]
    }
   ],
   "source": [
    "goal = breadth_first_search(BucketState(0,0), \n",
    "                            goal_bucket_state, \n",
    "                            child_bucket_states)\n",
    "print(goal.state)   # (2, 3)"
   ]
  },
  {
   "cell_type": "markdown",
   "metadata": {},
   "source": [
    "In order to print the actual steps from the initial state to the last, we can take advantage of each node's link to its parent."
   ]
  },
  {
   "cell_type": "code",
   "execution_count": 13,
   "metadata": {},
   "outputs": [],
   "source": [
    "def print_solution(node):\n",
    "    steps = []\n",
    "\n",
    "    while node.parent is not None:\n",
    "        steps.append(node.state)\n",
    "        node = node.parent\n",
    "\n",
    "    steps.append(BucketState(0,0))\n",
    "    steps.reverse()\n",
    "    \n",
    "    print(f\"Found goal state in {len(steps)-1} steps:\")\n",
    "    \n",
    "    for step in steps:\n",
    "        print(step)\n",
    "\n",
    "    return"
   ]
  },
  {
   "cell_type": "markdown",
   "metadata": {},
   "source": [
    "Now we can print the solution:"
   ]
  },
  {
   "cell_type": "code",
   "execution_count": 14,
   "metadata": {},
   "outputs": [
    {
     "name": "stdout",
     "output_type": "stream",
     "text": [
      "Found goal state in 6 steps:\n",
      "(0, 0)\n",
      "(4, 0)\n",
      "(1, 3)\n",
      "(1, 0)\n",
      "(0, 1)\n",
      "(4, 1)\n",
      "(2, 3)\n"
     ]
    }
   ],
   "source": [
    "print_solution(goal)\n",
    "\n",
    "# Found goal state in 6 steps:\n",
    "# (0, 0)\n",
    "# (4, 0)\n",
    "# (1, 3)\n",
    "# (1, 0)\n",
    "# (0, 1)\n",
    "# (4, 1)\n",
    "# (2, 3)"
   ]
  },
  {
   "cell_type": "markdown",
   "metadata": {},
   "source": [
    "If we need a description for each of the employed operators, we could have each operation function return also such a description, and modify the TreeNode class so that each node also includes a description of the edge to get there. We leave that as an exercise after class."
   ]
  },
  {
   "cell_type": "markdown",
   "metadata": {},
   "source": [
    "##### Depth-first search\n",
    "\n",
    "Implement depth-first search (again, in a manner that is independent of the problem at hand). You can start from your breadth-first search implementation and with minor changes get an implementation for depth-first search."
   ]
  },
  {
   "cell_type": "code",
   "execution_count": 15,
   "metadata": {},
   "outputs": [],
   "source": [
    "from collections import deque\n",
    "\n",
    "def depth_first_search(initial_state, goal_state_func, operators_func):\n",
    "        root = TreeNode(initial_state)   # create the root node in the search tree\n",
    "        stack = deque([root])   # initialize the stack to store the nodes\n",
    "        visited = {initial_state}  # visited states to avoid infite loop\n",
    "\n",
    "        while stack:\n",
    "            node = stack.pop()   # get last element in the stack\n",
    "\n",
    "            if goal_state_func(node.state):   # check goal state\n",
    "                return node\n",
    "\n",
    "            for state in operators_func(node.state):   # go through next states\n",
    "                if state not in visited:  # check if state has not been visited before\n",
    "                    # create tree node with the new state\n",
    "                    new_node = TreeNode(state)\n",
    "\n",
    "                    # link child node to its parent in the tree\n",
    "                    node.add_child(new_node)\n",
    "\n",
    "                    # add the child node to the stack\n",
    "                    stack.append(new_node)\n",
    "\n",
    "                    # add the child node to the visited set\n",
    "                    visited.add(state)\n",
    "\n",
    "        return None"
   ]
  },
  {
   "cell_type": "markdown",
   "metadata": {},
   "source": [
    "Test it on the two buckets problem."
   ]
  },
  {
   "cell_type": "code",
   "execution_count": 16,
   "metadata": {},
   "outputs": [
    {
     "name": "stdout",
     "output_type": "stream",
     "text": [
      "(2, 0)\n",
      "Found goal state in 6 steps:\n",
      "(0, 0)\n",
      "(0, 3)\n",
      "(3, 0)\n",
      "(3, 3)\n",
      "(4, 2)\n",
      "(0, 2)\n",
      "(2, 0)\n"
     ]
    }
   ],
   "source": [
    "goal = depth_first_search(BucketState(0,0), \n",
    "                            goal_bucket_state, \n",
    "                            child_bucket_states)\n",
    "\n",
    "print(goal.state)\n",
    "print_solution(goal)\n",
    "\n",
    "# (2, 0)\n",
    "# Found goal state in 6 steps:\n",
    "# (0, 0)\n",
    "# (0, 3)\n",
    "# (3, 0)\n",
    "# (3, 3)\n",
    "# (4, 2)\n",
    "# (0, 2)\n",
    "# (2, 0)"
   ]
  },
  {
   "cell_type": "markdown",
   "metadata": {},
   "source": [
    "If you are unable to get a solution, think about it: depth-first search is not a complete search method, and one of the reasons for that is if the state space contains cycles. As such, you need to make sure you avoid entering into a cycle by keeping a visited nodes list or set and checking that list whenever you generate a new state."
   ]
  },
  {
   "cell_type": "markdown",
   "metadata": {},
   "source": [
    "##### Depth-limited search\n",
    "\n",
    "Another way to make it work is to impose a depth limit to the problem. Implement depth-limited search."
   ]
  },
  {
   "cell_type": "code",
   "execution_count": 29,
   "metadata": {},
   "outputs": [],
   "source": [
    "def depth_limited_search(initial_state, goal_state_func, operators_func, depth_limit):\n",
    "    visited = set([initial_state])  # set of visited states to avoid infite loops\n",
    "\n",
    "    def sub_dfs(node, depth):\n",
    "        if goal_state_func(node.state):\n",
    "            return node\n",
    "        \n",
    "        if depth == depth_limit:\n",
    "            return None\n",
    "        \n",
    "        visited.add(node.state)\n",
    "\n",
    "        for state in operators_func(node.state):\n",
    "            new_node = TreeNode(state = state, parent = node)\n",
    "            result = sub_dfs(new_node, depth + 1)\n",
    "            if result is not None:\n",
    "                return result\n",
    "        return None\n",
    "            \n",
    "    return sub_dfs(TreeNode(initial_state), 0)"
   ]
  },
  {
   "cell_type": "markdown",
   "metadata": {},
   "source": [
    "Test it on the two buckets problem."
   ]
  },
  {
   "cell_type": "code",
   "execution_count": 30,
   "metadata": {},
   "outputs": [
    {
     "name": "stdout",
     "output_type": "stream",
     "text": [
      "(2, 3)\n",
      "Found goal state in 6 steps:\n",
      "(0, 0)\n",
      "(4, 0)\n",
      "(1, 3)\n",
      "(1, 0)\n",
      "(0, 1)\n",
      "(4, 1)\n",
      "(2, 3)\n"
     ]
    }
   ],
   "source": [
    "goal = depth_limited_search(BucketState(0,0), \n",
    "                            goal_bucket_state, \n",
    "                            child_bucket_states, \n",
    "                            6)\n",
    "\n",
    "print(goal.state)\n",
    "print_solution(goal)\n",
    "\n",
    "# (2, 3)\n",
    "# Found goal state in 6 steps:\n",
    "# (0, 0)\n",
    "# (4, 0)\n",
    "# (1, 3)\n",
    "# (1, 0)\n",
    "# (0, 1)\n",
    "# (4, 1)\n",
    "# (2, 3)"
   ]
  },
  {
   "cell_type": "markdown",
   "metadata": {},
   "source": [
    "##### Iterative deepening search\n",
    "\n",
    "Based on depth-limited, you can easily implement iterative-deepening search."
   ]
  },
  {
   "cell_type": "code",
   "execution_count": 31,
   "metadata": {},
   "outputs": [],
   "source": [
    "def iterative_deepening_search(initial_state, goal_state_func, operators_func, depth_limit):\n",
    "    for depth in range(depth_limit):\n",
    "        result = depth_limited_search(initial_state, goal_state_func, operators_func, depth)\n",
    "        if result is not None:\n",
    "            return result\n",
    "    return None"
   ]
  },
  {
   "cell_type": "markdown",
   "metadata": {},
   "source": [
    "Again, test it on the two buckets problem."
   ]
  },
  {
   "cell_type": "code",
   "execution_count": 32,
   "metadata": {},
   "outputs": [
    {
     "name": "stdout",
     "output_type": "stream",
     "text": [
      "(2, 3)\n",
      "Found goal state in 6 steps:\n",
      "(0, 0)\n",
      "(4, 0)\n",
      "(1, 3)\n",
      "(1, 0)\n",
      "(0, 1)\n",
      "(4, 1)\n",
      "(2, 3)\n"
     ]
    }
   ],
   "source": [
    "goal = iterative_deepening_search(BucketState(0,0), \n",
    "                            goal_bucket_state, \n",
    "                            child_bucket_states, \n",
    "                            7)\n",
    "\n",
    "print(goal.state)\n",
    "print_solution(goal)\n",
    "\n",
    "# (2, 3)\n",
    "# Found goal state in 6 steps:\n",
    "# (0, 0)\n",
    "# (4, 0)\n",
    "# (1, 3)\n",
    "# (1, 0)\n",
    "# (0, 1)\n",
    "# (4, 1)\n",
    "# (2, 3)"
   ]
  },
  {
   "attachments": {},
   "cell_type": "markdown",
   "metadata": {},
   "source": [
    "##### Greedy Search\n",
    "Implement code to solve two buckets problem using Greedy Search."
   ]
  },
  {
   "cell_type": "code",
   "execution_count": 33,
   "metadata": {},
   "outputs": [],
   "source": [
    "def heuristic_bucket(node):\n",
    "    return abs(node.state.b1-2)"
   ]
  },
  {
   "cell_type": "code",
   "execution_count": 34,
   "metadata": {},
   "outputs": [],
   "source": [
    "\n",
    "def greedy_search(initial_state, goal_state_func, operators_func, heuristic_func):\n",
    "    root = TreeNode(initial_state)  # create the root node in the search tree\n",
    "    queue = [(root, heuristic_func(root))]  # initialize the queue to store the nodes\n",
    "    visited = set([initial_state])\n",
    "\n",
    "    while queue:\n",
    "        queue.sort(key=lambda node: node[1])  # sort the queue based on heuristic cost\n",
    "        (node, _) = queue.pop(0)  # get the node with the lowest heuristic cost\n",
    "\n",
    "        if goal_state_func(node.state):  # check goal state\n",
    "            return node\n",
    "\n",
    "        for state in operators_func(node.state):  # go through next states\n",
    "            if state not in visited:  # check if state has not been visited before\n",
    "                # create tree node with the new state\n",
    "                new_node = TreeNode(state)\n",
    "\n",
    "                # link child node to its parent in the tree\n",
    "                node.add_child(new_node)\n",
    "\n",
    "                # add the child node to the queue with its heuristic cost\n",
    "                queue.append((new_node, heuristic_func(new_node)))\n",
    "\n",
    "                # add the child node to the visited set\n",
    "                visited.add(state)\n",
    "\n",
    "    return None"
   ]
  },
  {
   "attachments": {},
   "cell_type": "markdown",
   "metadata": {},
   "source": [
    "Test it in the two buckets problem."
   ]
  },
  {
   "cell_type": "code",
   "execution_count": 35,
   "metadata": {},
   "outputs": [
    {
     "name": "stdout",
     "output_type": "stream",
     "text": [
      "(2, 3)\n",
      "Found goal state in 6 steps:\n",
      "(0, 0)\n",
      "(4, 0)\n",
      "(1, 3)\n",
      "(1, 0)\n",
      "(0, 1)\n",
      "(4, 1)\n",
      "(2, 3)\n"
     ]
    }
   ],
   "source": [
    "goal = greedy_search(BucketState(0,0), \n",
    "                            goal_bucket_state, \n",
    "                            child_bucket_states,\n",
    "                            heuristic_bucket)\n",
    "\n",
    "print(goal.state)\n",
    "print_solution(goal)"
   ]
  },
  {
   "attachments": {},
   "cell_type": "markdown",
   "metadata": {},
   "source": [
    "##### A* Algorithm"
   ]
  },
  {
   "cell_type": "code",
   "execution_count": 61,
   "metadata": {},
   "outputs": [],
   "source": [
    "from collections import deque\n",
    "\n",
    "def a_star_search(initial_state, goal_state_func, operators_func, heuristic_func):\n",
    "    root = TreeNode(initial_state)   # create the root node in the search tree\n",
    "    queue = deque([root])   # initialize the queue to store the nodes\n",
    "\n",
    "    while queue:\n",
    "        node = min(queue, key=lambda n: heuristic_func(n) + n.depth)    # selects the node with the lowest cost from the queue\n",
    "\n",
    "        if goal_state_func(node.state):   # check goal state\n",
    "            return node\n",
    "\n",
    "        queue.remove(node)  # remove node from the queue so that it is not explored again\n",
    "\n",
    "        for state in operators_func(node.state):   # go through next states\n",
    "            # create tree node with the new state\n",
    "            new_node = TreeNode(state=state, parent=node)\n",
    "\n",
    "            # link child node to its parent in the tree\n",
    "            node.add_child(new_node)\n",
    "\n",
    "            # enqueue the child node\n",
    "            queue.append(new_node)\n",
    "\n",
    "    return None"
   ]
  },
  {
   "cell_type": "markdown",
   "metadata": {},
   "source": [
    "Test it in the two buckets problem."
   ]
  },
  {
   "cell_type": "code",
   "execution_count": 62,
   "metadata": {},
   "outputs": [
    {
     "name": "stdout",
     "output_type": "stream",
     "text": [
      "(2, 3)\n",
      "Found goal state in 6 steps:\n",
      "(0, 0)\n",
      "(4, 0)\n",
      "(1, 3)\n",
      "(1, 0)\n",
      "(0, 1)\n",
      "(4, 1)\n",
      "(2, 3)\n"
     ]
    }
   ],
   "source": [
    "goal = a_star_search(BucketState(0,0), \n",
    "                            goal_bucket_state, \n",
    "                            child_bucket_states,\n",
    "                            heuristic_bucket)\n",
    "\n",
    "print(goal.state)\n",
    "print_solution(goal)"
   ]
  },
  {
   "attachments": {},
   "cell_type": "markdown",
   "metadata": {},
   "source": [
    "## 1.2 The Missionaries and Cannibals Problem \n",
    "\n",
    "<img src=\"https://allfish24.files.wordpress.com/2016/09/gambar-1.jpg\">\n",
    "\n",
    "Three missionaries and three cannibals are on one of the banks of the river with a boat that only takes one or two people. The boat cannot travel the river alone.\n",
    "\n",
    "The goal is to find a way to get the six to the other bank of the river without ever leaving more cannibals than missionaries on one of the banks (even at the instant they leave/join the boat) during the process."
   ]
  },
  {
   "cell_type": "markdown",
   "metadata": {},
   "source": [
    "Formulate this problem as a search problem by defining the state representation, initial state, operators (their name, preconditions, effects, and cost), and objective test."
   ]
  },
  {
   "cell_type": "raw",
   "metadata": {},
   "source": [
    "State Representation: \n",
    "(m,c,b)\n",
    "\n",
    "Initial State: \n",
    "(3,3,1)\n",
    "\n",
    "Operators:\n",
    "Name  | Pre Conditions                   | Effects                        | Cost \n",
    "------|----------------------------------|--------------------------------|-----------\n",
    "m1_12 | m > c && m > 0 && b == 1         | m = m-1 && b = 0               | 1\n",
    "m1_21 | 3-m > 3-c && 3-m > 0 && b == 0   | m = m+1 && b = 1               | 1\n",
    "m2_12 | m > c+1 && m > 1 && b == 1       | m = m-2 && b = 0               | 1\n",
    "m2_21 | 3-m > 3-c+1 && 3-m > 1 && b == 0 | m = m+2 && b = 1               | 1\n",
    "c1_12 | c > 0 && b == 1                  | c = c-1 && b = 0               | 1\n",
    "c1_21 | 3-c > 0 && b == 0                | c = c+1 && b = 1               | 1\n",
    "c2_12 | c > 1 && b == 1                  | c = c-2 && b = 0               | 1\n",
    "c2_21 | 3-c > 1 && b == 0                | c = c+2 && b = 1               | 1\n",
    "mc_12 | m > 1 && c > 1 && b == 1         | m = m-1 && c = c-1 && b = 0    | 1\n",
    "mc_21 | 3-m > 1 && 3-c > 1 && b == 0     | m = m+1 && c = c+1 && b = 1    | 1\n",
    "\n",
    "Objective State: \n",
    "(0,0,_)"
   ]
  },
  {
   "cell_type": "markdown",
   "metadata": {},
   "source": [
    "Solve the problem by hand, using tree search. What solutions have you found?"
   ]
  },
  {
   "cell_type": "raw",
   "metadata": {},
   "source": [
    " m -> 0..3\n",
    " c -> 0..3\n",
    " b -> 0..1\n",
    " Size = 3 * 3 * 1 = 9 states\n",
    " \n",
    " (to complete...)\n",
    "\n",
    "                        (3,3,1)\n",
    "                (2,2,0)        (1,3,0)\n",
    "                        (3,2,1)             \n",
    "                        (3,0,0)\n",
    "                        (3,1,1)\n",
    "                        (1,1,0)    \n",
    "                        (2,2,1)\n",
    "                        (0,2,0)\n",
    "                        (0,3,1)\n",
    "                        (0,1,0)\n",
    "                        (0,2,1)\n",
    "                        (0,0,0) "
   ]
  },
  {
   "cell_type": "markdown",
   "metadata": {},
   "source": [
    "Represent the problem as a search problem and take advantage of the implemented search algorithms to find solutions!"
   ]
  },
  {
   "cell_type": "code",
   "execution_count": 1,
   "metadata": {},
   "outputs": [],
   "source": [
    "class RiverState:\n",
    "    def __init__(self, m, c, b):\n",
    "        self.m = m\n",
    "        self.c = c\n",
    "        self.b = b\n",
    "\n",
    "    def __eq__(self, other):\n",
    "        return self.m == other.m and self.c == other.c and self.b == other.b\n",
    "    \n",
    "    def __ne__(self, other):\n",
    "        return not self.__eq__(other)\n",
    "    \n",
    "    def __hash__(self):\n",
    "        return hash((self.m, self.c, self.b))\n",
    "    \n",
    "    def __str__(self):\n",
    "        return \"Side 1: (\" + str(self.m) + \", \" + str(self.c) + \", \" + str(self.b) + \")\" + \"Side 2: + (\" + str(3-self.m) + \", \" + str(3-self.c) + \", \" + str(3-self.b) + \")\""
   ]
  },
  {
   "cell_type": "code",
   "execution_count": 2,
   "metadata": {},
   "outputs": [],
   "source": [
    "# Take one missionary from side 1 to 2\n",
    "def m1_12(state):\n",
    "     if state.m > state.c and state.m > 0 and state.b == 1:\n",
    "            return RiverState(state.m-1, state.c, 0)\n",
    "     return None\n",
    "\n",
    "# Take one missionary from side 2 to 1\n",
    "def m1_21(state):\n",
    "     if 3-state.m > 3-state.c and 3-state.m > 0 and state.b == 0:\n",
    "            return RiverState(state.m+1, state.c, 1)\n",
    "     return None\n",
    "\n",
    "# Take two missionaries from side 1 to 2\n",
    "def m2_12(state):\n",
    "     if state.m > state.c+1 and state.m > 1 and state.b == 1:\n",
    "            return RiverState(state.m-2, state.c, 0)\n",
    "     return None\n",
    "\n",
    "# Take two missionaries from side 2 to 1\n",
    "def m2_21(state):\n",
    "     if 3-state.m > 3-state.c+1 and 3-state.m > 1 and state.b == 0:\n",
    "            return RiverState(state.m+2, state.c, 1)\n",
    "     return None\n",
    "\n",
    "# Take one cannibal from side 1 to 2\n",
    "def c1_12(state):\n",
    "     if state.c > 0 and state.b == 1:\n",
    "            return RiverState(state.m, state.c-1, 0)\n",
    "     return None\n",
    "\n",
    "# Take one cannibal from side 2 to 1\n",
    "def c1_21(state):\n",
    "     if 3-state.c > 0 and state.b == 0:\n",
    "            return RiverState(state.m, state.c+1, 1)\n",
    "     return None\n",
    "\n",
    "# Take two cannibals from side 1 to 2\n",
    "def c2_12(state):\n",
    "     if state.c > 1 and state.b == 1:\n",
    "            return RiverState(state.m, state.c-2, 0)\n",
    "     return None\n",
    "\n",
    "# Take two cannibals from side 2 to 1\n",
    "def c2_21(state):\n",
    "     if 3-state.c > 1 and state.b == 0:\n",
    "            return RiverState(state.m, state.c+2, 1)\n",
    "     return None\n",
    "\n",
    "# Take one missionary and one cannibal from side 1 to 2\n",
    "def mc_12(state):\n",
    "     if state.m > 1 and state.c > 1 and state.b == 1:\n",
    "            return RiverState(state.m-1, state.c-1, 0)\n",
    "     return None\n",
    "\n",
    "# Take one missionary and one cannibal from side 2 to 1\n",
    "def mc_21(state):\n",
    "     if 3-state.m > 1 and 3-state.c > 1 and state.b == 0:\n",
    "            return RiverState(state.m+1, state.c+1, 1)\n",
    "     return None"
   ]
  },
  {
   "cell_type": "code",
   "execution_count": 3,
   "metadata": {},
   "outputs": [],
   "source": [
    "def child_river_states(state):\n",
    "    new_states = []\n",
    "    if(m1_12(state)):\n",
    "        new_states.append(m1_12(state))\n",
    "    if(m1_21(state)):\n",
    "        new_states.append(m1_21(state))\n",
    "    if(m2_12(state)):\n",
    "        new_states.append(m2_12(state))\n",
    "    if(m2_21(state)):\n",
    "        new_states.append(m2_21(state))\n",
    "    if(c1_12(state)):\n",
    "        new_states.append(c1_12(state))\n",
    "    if(c1_21(state)):\n",
    "        new_states.append(c1_21(state))\n",
    "    if(c2_12(state)):\n",
    "        new_states.append(c2_12(state))\n",
    "    if(c2_21(state)):\n",
    "        new_states.append(c2_21(state))\n",
    "    if(mc_12(state)):\n",
    "        new_states.append(mc_12(state))\n",
    "    if(mc_21(state)):\n",
    "        new_states.append(mc_21(state))\n",
    "    return new_states"
   ]
  }
 ],
 "metadata": {
  "kernelspec": {
   "display_name": "Python 3",
   "language": "python",
   "name": "python3"
  },
  "language_info": {
   "codemirror_mode": {
    "name": "ipython",
    "version": 3
   },
   "file_extension": ".py",
   "mimetype": "text/x-python",
   "name": "python",
   "nbconvert_exporter": "python",
   "pygments_lexer": "ipython3",
   "version": "3.10.10"
  },
  "vscode": {
   "interpreter": {
    "hash": "67b1a472c94941d159cc59ae94dc07e671dcad1794997baa89e5e520c44de865"
   }
  }
 },
 "nbformat": 4,
 "nbformat_minor": 4
}
